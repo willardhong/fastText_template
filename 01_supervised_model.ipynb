{
 "cells": [
  {
   "cell_type": "code",
   "execution_count": 1,
   "metadata": {},
   "outputs": [],
   "source": [
    "import fastText\n",
    "import pandas as pd\n",
    "from sklearn.model_selection import train_test_split\n",
    "import csv\n",
    "import re\n",
    "import numpy as np\n",
    "from sklearn.metrics import confusion_matrix\n",
    "import seaborn as sn\n",
    "import pandas as pd\n",
    "import matplotlib.pyplot as plt"
   ]
  },
  {
   "cell_type": "code",
   "execution_count": 14,
   "metadata": {},
   "outputs": [],
   "source": [
    "df = pd.read_csv('data/yelp/yelp_review.csv')"
   ]
  },
  {
   "cell_type": "code",
   "execution_count": 15,
   "metadata": {},
   "outputs": [],
   "source": [
    "df = df[['stars', 'text']]"
   ]
  },
  {
   "cell_type": "code",
   "execution_count": 16,
   "metadata": {},
   "outputs": [],
   "source": [
    "df['stars'] = df['stars'].apply(lambda x: '__label__'+str(x))"
   ]
  },
  {
   "cell_type": "code",
   "execution_count": 17,
   "metadata": {},
   "outputs": [
    {
     "data": {
      "text/html": [
       "<div>\n",
       "<style scoped>\n",
       "    .dataframe tbody tr th:only-of-type {\n",
       "        vertical-align: middle;\n",
       "    }\n",
       "\n",
       "    .dataframe tbody tr th {\n",
       "        vertical-align: top;\n",
       "    }\n",
       "\n",
       "    .dataframe thead th {\n",
       "        text-align: right;\n",
       "    }\n",
       "</style>\n",
       "<table border=\"1\" class=\"dataframe\">\n",
       "  <thead>\n",
       "    <tr style=\"text-align: right;\">\n",
       "      <th></th>\n",
       "      <th>stars</th>\n",
       "      <th>text</th>\n",
       "    </tr>\n",
       "  </thead>\n",
       "  <tbody>\n",
       "    <tr>\n",
       "      <th>0</th>\n",
       "      <td>__label__5</td>\n",
       "      <td>Super simple place but amazing nonetheless. It...</td>\n",
       "    </tr>\n",
       "    <tr>\n",
       "      <th>1</th>\n",
       "      <td>__label__5</td>\n",
       "      <td>Small unassuming place that changes their menu...</td>\n",
       "    </tr>\n",
       "    <tr>\n",
       "      <th>2</th>\n",
       "      <td>__label__5</td>\n",
       "      <td>Lester's is located in a beautiful neighborhoo...</td>\n",
       "    </tr>\n",
       "    <tr>\n",
       "      <th>3</th>\n",
       "      <td>__label__4</td>\n",
       "      <td>Love coming here. Yes the place always needs t...</td>\n",
       "    </tr>\n",
       "    <tr>\n",
       "      <th>4</th>\n",
       "      <td>__label__4</td>\n",
       "      <td>Had their chocolate almond croissant and it wa...</td>\n",
       "    </tr>\n",
       "  </tbody>\n",
       "</table>\n",
       "</div>"
      ],
      "text/plain": [
       "        stars                                               text\n",
       "0  __label__5  Super simple place but amazing nonetheless. It...\n",
       "1  __label__5  Small unassuming place that changes their menu...\n",
       "2  __label__5  Lester's is located in a beautiful neighborhoo...\n",
       "3  __label__4  Love coming here. Yes the place always needs t...\n",
       "4  __label__4  Had their chocolate almond croissant and it wa..."
      ]
     },
     "execution_count": 17,
     "metadata": {},
     "output_type": "execute_result"
    }
   ],
   "source": [
    "df.head()"
   ]
  },
  {
   "cell_type": "code",
   "execution_count": 18,
   "metadata": {},
   "outputs": [],
   "source": [
    "def normalize(s):\n",
    "    \"\"\"\n",
    "    Given a text, cleans and normalizes it. Feel free to add your own stuff.\n",
    "    \"\"\"\n",
    "    s = s.lower()\n",
    "    # Replace ips\n",
    "    s = re.sub(r'\\d{1,3}\\.\\d{1,3}\\.\\d{1,3}\\.\\d{1,3}', ' _ip_ ', s)\n",
    "    # Isolate punctuation\n",
    "    s = re.sub(r'([.\\(\\)\\!\\?\\-\\\\\\/\\,])', r' \\1 ', s)\n",
    "    # Remove some special characters\n",
    "    s = re.sub(r'([\\;\\:\\|•«\\n])', ' ', s)\n",
    "    # Replace numbers and symbols with language\n",
    "    s = s.replace('&', ' and ')\n",
    "    s = s.replace('@', ' at ')\n",
    "    s = s.replace('0', ' zero ')\n",
    "    s = s.replace('1', ' one ')\n",
    "    s = s.replace('2', ' two ')\n",
    "    s = s.replace('3', ' three ')\n",
    "    s = s.replace('4', ' four ')\n",
    "    s = s.replace('5', ' five ')\n",
    "    s = s.replace('6', ' six ')\n",
    "    s = s.replace('7', ' seven ')\n",
    "    s = s.replace('8', ' eight ')\n",
    "    s = s.replace('9', ' nine ')\n",
    "    return s"
   ]
  },
  {
   "cell_type": "code",
   "execution_count": 19,
   "metadata": {},
   "outputs": [],
   "source": [
    "# Convert all upper case to lower case and separate out the punctuations\n",
    "df['text'] = df['text'].apply(normalize)"
   ]
  },
  {
   "cell_type": "markdown",
   "metadata": {},
   "source": [
    "#### Split the whole dataset into training and validation.  fastText uses the c++ api directly so the computation is actualy happening outside of the notebook. Hence you cannot pass pandas dataframe or other general objects into fastText directly. You need to saved the training file in a text file format. Acceptable separators: space '\\s' and tabs '\\t'"
   ]
  },
  {
   "cell_type": "code",
   "execution_count": 20,
   "metadata": {},
   "outputs": [],
   "source": [
    "train, test = train_test_split(df, test_size=0.2)\n",
    "train_file = 'data/yelp/nb_train.csv'\n",
    "test_file = 'data/yelp/nb_test.csv'\n",
    "train.to_csv(\"data/yelp/nb_train.csv\", sep=\"\\t\", quoting=csv.QUOTE_NONE, index=False, header=False)\n",
    "test.to_csv(\"data/yelp/nb_test.csv\", sep=\"\\t\", quoting=csv.QUOTE_NONE, index=False, header=False)"
   ]
  },
  {
   "cell_type": "code",
   "execution_count": 37,
   "metadata": {},
   "outputs": [
    {
     "data": {
      "text/html": [
       "<div>\n",
       "<style scoped>\n",
       "    .dataframe tbody tr th:only-of-type {\n",
       "        vertical-align: middle;\n",
       "    }\n",
       "\n",
       "    .dataframe tbody tr th {\n",
       "        vertical-align: top;\n",
       "    }\n",
       "\n",
       "    .dataframe thead th {\n",
       "        text-align: right;\n",
       "    }\n",
       "</style>\n",
       "<table border=\"1\" class=\"dataframe\">\n",
       "  <thead>\n",
       "    <tr style=\"text-align: right;\">\n",
       "      <th></th>\n",
       "      <th>stars</th>\n",
       "      <th>text</th>\n",
       "    </tr>\n",
       "  </thead>\n",
       "  <tbody>\n",
       "    <tr>\n",
       "      <th>5192793</th>\n",
       "      <td>__label__4</td>\n",
       "      <td>favorite brunch in the 'burgh .    pumpkin pan...</td>\n",
       "    </tr>\n",
       "    <tr>\n",
       "      <th>615939</th>\n",
       "      <td>__label__4</td>\n",
       "      <td>i've been longing for a burrito that ressemble...</td>\n",
       "    </tr>\n",
       "    <tr>\n",
       "      <th>3206402</th>\n",
       "      <td>__label__4</td>\n",
       "      <td>as someone who is not vegan or vegetarian ,  i...</td>\n",
       "    </tr>\n",
       "    <tr>\n",
       "      <th>2598515</th>\n",
       "      <td>__label__5</td>\n",
       "      <td>i love this location !  every time i have come...</td>\n",
       "    </tr>\n",
       "    <tr>\n",
       "      <th>3927514</th>\n",
       "      <td>__label__5</td>\n",
       "      <td>i don't post often but felt i should after rea...</td>\n",
       "    </tr>\n",
       "  </tbody>\n",
       "</table>\n",
       "</div>"
      ],
      "text/plain": [
       "              stars                                               text\n",
       "5192793  __label__4  favorite brunch in the 'burgh .    pumpkin pan...\n",
       "615939   __label__4  i've been longing for a burrito that ressemble...\n",
       "3206402  __label__4  as someone who is not vegan or vegetarian ,  i...\n",
       "2598515  __label__5  i love this location !  every time i have come...\n",
       "3927514  __label__5  i don't post often but felt i should after rea..."
      ]
     },
     "execution_count": 37,
     "metadata": {},
     "output_type": "execute_result"
    }
   ],
   "source": [
    "test.head()"
   ]
  },
  {
   "cell_type": "markdown",
   "metadata": {},
   "source": [
    "\n",
    "# Model training"
   ]
  },
  {
   "cell_type": "code",
   "execution_count": 21,
   "metadata": {},
   "outputs": [],
   "source": [
    "nb_model = fastText.train_supervised(input=train_file, epoch=25, lr=1.0, wordNgrams=2, verbose=2, minCount=1)"
   ]
  },
  {
   "cell_type": "code",
   "execution_count": 22,
   "metadata": {},
   "outputs": [],
   "source": [
    "nb_model.save_model('model/yelp/nb_model.bin')"
   ]
  },
  {
   "cell_type": "markdown",
   "metadata": {},
   "source": [
    "# Prediction"
   ]
  },
  {
   "cell_type": "code",
   "execution_count": 23,
   "metadata": {},
   "outputs": [],
   "source": [
    "nb_model = fastText.load_model('model/yelp/nb_model.bin')"
   ]
  },
  {
   "cell_type": "code",
   "execution_count": 24,
   "metadata": {},
   "outputs": [
    {
     "data": {
      "text/plain": [
       "array([ 3.67158428e-02, -3.07976514e-01,  1.04386345e-01, -3.45589042e-01,\n",
       "       -1.95358425e-01,  4.16435629e-01, -3.12293768e-01, -1.34801865e-01,\n",
       "        6.77650720e-02,  1.01164639e-01,  3.71636480e-01, -1.83196008e-01,\n",
       "        6.51312768e-01, -1.55711219e-01, -2.23645523e-01,  1.93273440e-01,\n",
       "       -3.74547951e-02,  1.37404636e-01, -6.09245420e-01, -4.14229274e-01,\n",
       "        2.32392550e-03,  5.12423158e-01,  2.18610704e-01,  1.37375385e-01,\n",
       "        2.34142303e-01,  7.04406738e-01, -1.34755969e-01, -8.13384578e-02,\n",
       "        4.60515827e-01, -8.50089043e-02,  9.97949671e-03, -3.38562697e-01,\n",
       "        1.20717716e+00,  1.07666180e-01, -8.10940489e-02,  5.55455804e-01,\n",
       "        3.51305306e-02,  4.23971474e-01, -4.79672045e-01, -1.08888648e-01,\n",
       "       -1.81527287e-02, -1.02593392e-01, -2.04657823e-01,  7.08119199e-02,\n",
       "       -1.29683644e-01,  2.44056016e-01, -1.25085458e-01, -6.57933503e-02,\n",
       "        1.24757290e-01, -6.83743000e-01, -5.47164619e-01,  2.60690510e-01,\n",
       "       -1.34075090e-01,  5.83921194e-01,  8.99566263e-02,  8.50275531e-02,\n",
       "        2.37070367e-01,  3.41787308e-01,  6.53670669e-01,  3.61508042e-01,\n",
       "       -2.75007993e-01,  1.26204208e-01, -4.14937036e-03, -3.76107454e-01,\n",
       "       -3.85408551e-01,  3.28277826e-01, -3.38665634e-01,  4.57041442e-01,\n",
       "       -1.72550976e-01,  2.06367493e-01, -2.53580272e-01, -4.41085100e-01,\n",
       "        8.16190004e-01,  4.92959946e-01,  6.11132011e-02, -1.03159107e-01,\n",
       "        1.82058677e-01, -8.68131742e-02, -7.32913792e-01,  8.58208656e-01,\n",
       "       -2.29079396e-01,  1.85078875e-06,  6.84852302e-01,  3.31256509e-01,\n",
       "       -9.02975798e-01,  7.12792099e-01, -8.04092526e-01,  4.17373568e-01,\n",
       "        7.20023811e-01,  2.91711956e-01,  5.87606728e-01, -1.55061439e-01,\n",
       "        4.42378223e-01, -3.15611422e-01,  3.16283107e-01, -2.89905488e-01,\n",
       "        5.22752218e-02, -3.29919636e-01,  9.94723201e-01,  5.15615404e-01],\n",
       "      dtype=float32)"
      ]
     },
     "execution_count": 24,
     "metadata": {},
     "output_type": "execute_result"
    }
   ],
   "source": [
    "nb_model.get_word_vector('restaurant')"
   ]
  },
  {
   "cell_type": "code",
   "execution_count": 25,
   "metadata": {},
   "outputs": [
    {
     "data": {
      "text/plain": [
       "array([ 0.1800582 ,  0.04517507, -0.21955909, -0.07299201,  0.23784114,\n",
       "        0.30983585, -0.3979124 , -0.17892955, -0.08974169,  0.18256548,\n",
       "        0.04647908,  0.24929737,  0.26378807,  0.07778904, -0.12628116,\n",
       "       -0.01258979, -0.11040659, -0.19167173, -0.12085687, -0.52426195,\n",
       "       -0.09100739,  0.23078957,  0.1952901 , -0.02842684, -0.31348503,\n",
       "        0.10633337,  0.20223808, -0.10971975, -0.21865281,  0.33736265,\n",
       "        0.04389627,  0.3057435 ,  0.07071732,  0.02505242, -0.49796242,\n",
       "       -0.07835379, -0.07446429, -0.07035699, -0.17732263,  0.20237449,\n",
       "       -0.11276161,  0.30038622, -0.10096665,  0.41968355,  0.19454762,\n",
       "       -0.02397309,  0.18114676,  0.25341165, -0.01606208,  0.15387087,\n",
       "       -0.4188578 ,  0.1469966 ,  0.05438651,  0.26447833, -0.12699258,\n",
       "       -0.1429497 , -0.0932896 ,  0.17148164,  0.45264348,  0.08372699,\n",
       "        0.0189458 ,  0.03412399,  0.30698606,  0.40017274, -0.19277649,\n",
       "        0.2656181 ,  0.09003392, -0.00092357,  0.01899109,  0.17331125,\n",
       "        0.1045183 ,  0.37039343,  0.10119943, -0.22699532, -0.05936712,\n",
       "       -0.22835408, -0.04169086,  0.07723178,  0.1523102 , -0.13587174,\n",
       "        0.09251818, -0.1894572 ,  0.18283594, -0.0716977 , -0.07868724,\n",
       "        0.14957082,  0.14333415,  0.06279609, -0.02683491, -0.2267544 ,\n",
       "        0.03385465, -0.05886531,  0.0538777 , -0.17895938,  0.00212841,\n",
       "       -0.2990537 , -0.38267413,  0.2124227 ,  0.04237939, -0.23315805],\n",
       "      dtype=float32)"
      ]
     },
     "execution_count": 25,
     "metadata": {},
     "output_type": "execute_result"
    }
   ],
   "source": [
    "nb_model.get_sentence_vector('I love this restaurant')"
   ]
  },
  {
   "cell_type": "code",
   "execution_count": 26,
   "metadata": {},
   "outputs": [
    {
     "data": {
      "text/plain": [
       "(('__label__5',), array([0.99996662]))"
      ]
     },
     "execution_count": 26,
     "metadata": {},
     "output_type": "execute_result"
    }
   ],
   "source": [
    "nb_model.predict('I love this restaurant')"
   ]
  },
  {
   "cell_type": "code",
   "execution_count": 27,
   "metadata": {},
   "outputs": [
    {
     "data": {
      "text/plain": [
       "(('__label__5', '__label__4', '__label__2'),\n",
       " array([9.99966621e-01, 5.33632410e-05, 1.00000034e-05]))"
      ]
     },
     "execution_count": 27,
     "metadata": {},
     "output_type": "execute_result"
    }
   ],
   "source": [
    "nb_model.predict('I love this restaurant', k=3)"
   ]
  },
  {
   "cell_type": "markdown",
   "metadata": {},
   "source": [
    "# Model Performance"
   ]
  },
  {
   "cell_type": "markdown",
   "metadata": {},
   "source": [
    "# Pricision and recall for single label"
   ]
  },
  {
   "cell_type": "code",
   "execution_count": 28,
   "metadata": {},
   "outputs": [],
   "source": [
    "def print_results(N, p, r):\n",
    "    print(\"N\\t\" + str(N))\n",
    "    print(\"P@{}\\t{:.3f}\".format(1, p))\n",
    "    print(\"R@{}\\t{:.3f}\".format(1, r))"
   ]
  },
  {
   "cell_type": "code",
   "execution_count": 30,
   "metadata": {},
   "outputs": [
    {
     "name": "stdout",
     "output_type": "stream",
     "text": [
      "N\t1052334\n",
      "P@1\t0.684\n",
      "R@1\t0.684\n"
     ]
    }
   ],
   "source": [
    "print_results(*nb_model.test(test_file))"
   ]
  },
  {
   "cell_type": "code",
   "execution_count": 32,
   "metadata": {},
   "outputs": [
    {
     "name": "stdout",
     "output_type": "stream",
     "text": [
      "N\t1052334\n",
      "P@5\t0.200\n",
      "R@5\t1.000\n"
     ]
    }
   ],
   "source": [
    "n, p, r = nb_model.test(test_file, 5)\n",
    "print(\"N\\t\" + str(n))\n",
    "print(\"P@{}\\t{:.3f}\".format(5, p))\n",
    "print(\"R@{}\\t{:.3f}\".format(5, r))"
   ]
  },
  {
   "cell_type": "code",
   "execution_count": 33,
   "metadata": {},
   "outputs": [],
   "source": [
    "def get_true_postive_count(cm, model, df, label_column_name, text_column_name, target_class):\n",
    "    predictions = [model.predict(x)[0][0] for x in df[df[label_column_name] == target_class][text_column_name]]\n",
    "    tp_count = len(list(filter(lambda x: x==target_class, predictions)))\n",
    "    index = np.where(cm==tp_count)\n",
    "    if index[0][0] == index[1][0]:\n",
    "        return index[0][0]\n",
    "    else:\n",
    "        raise ValueError('COuld not find the index ' + index)\n",
    "        \n",
    "        \n",
    "def resolve_labels_sequence(classes, cm, model, df, label_column_name, text_column_name):\n",
    "    target_seq = [0] * len(classes)\n",
    "    for label in classes:\n",
    "        index = get_true_postive_count(cm, model, df, label_column_name, text_column_name, label)\n",
    "        target_seq[index] = label\n",
    "    return target_seq\n",
    "\n",
    "\n",
    "def fasttext_confusion_matrix(model, pd_test_data, label_column_name, text_column_name):\n",
    "    test_labels = pd_test_data[label_column_name]\n",
    "    test_labels = np.array(test_labels)\n",
    "    _classes = list(set(test_labels))\n",
    "    pred_labels = [model.predict(x)[0][0] for x in pd_test_data[text_column_name]]\n",
    "    pred_labels = np.array(pred_labels)\n",
    "    eq = test_labels == pred_labels\n",
    "    print(\"Accuracy: \" + str(eq.sum() / len(test_labels)))\n",
    "    cm = confusion_matrix(test_labels, pred_labels)\n",
    "    labels = resolve_labels_sequence(_classes, cm, model, pd_test_data, label_column_name, text_column_name)\n",
    "    print(labels)\n",
    "    print(confusion_matrix(test_labels, pred_labels, labels=labels))\n",
    "    df_cm = pd.DataFrame(cm, index = labels, columns = labels)\n",
    "    plt.figure(figsize = (10,7))\n",
    "    sn.heatmap(df_cm, annot=True)"
   ]
  },
  {
   "cell_type": "code",
   "execution_count": 39,
   "metadata": {},
   "outputs": [
    {
     "name": "stdout",
     "output_type": "stream",
     "text": [
      "Accuracy: 0.6836973812496793\n",
      "['__label__1', '__label__2', '__label__3', '__label__4', '__label__5']\n",
      "[[116663  21234   5098   1530   1883]\n",
      " [ 23735  39411  19736   3629   1343]\n",
      " [  5835  18995  59481  31651   6664]\n",
      " [  1658   3486  27656 131914  80149]\n",
      " [  1914   1300   5816  69544 372009]]\n"
     ]
    },
    {
     "data": {
      "image/png": "[encoded data removed]",
      "text/plain": [
       "<Figure size 720x504 with 2 Axes>"
      ]
     },
     "metadata": {
      "needs_background": "light"
     },
     "output_type": "display_data"
    }
   ],
   "source": [
    "fasttext_confusion_matrix(nb_model, test, 'stars', 'text')"
   ]
  }
 ],
 "metadata": {
  "kernelspec": {
   "display_name": "Python 3",
   "language": "python",
   "name": "python3"
  },
  "language_info": {
   "codemirror_mode": {
    "name": "ipython",
    "version": 3
   },
   "file_extension": ".py",
   "mimetype": "text/x-python",
   "name": "python",
   "nbconvert_exporter": "python",
   "pygments_lexer": "ipython3",
   "version": "3.6.6"
  }
 },
 "nbformat": 4,
 "nbformat_minor": 2
}
